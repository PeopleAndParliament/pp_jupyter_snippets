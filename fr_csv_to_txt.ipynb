{
 "cells": [
  {
   "cell_type": "markdown",
   "source": [
    "# French data to txt files\n",
    "\n",
    "... for use in [AntConc](https://www.laurenceanthony.net/software/antconc/).\n",
    "\n",
    "Import the libraries:"
   ],
   "metadata": {
    "collapsed": false
   }
  },
  {
   "cell_type": "code",
   "execution_count": 1,
   "metadata": {
    "collapsed": true
   },
   "outputs": [],
   "source": [
    "from glob import glob\n",
    "import csv"
   ]
  },
  {
   "cell_type": "markdown",
   "source": [
    "Find the csv files in the folder:"
   ],
   "metadata": {
    "collapsed": false
   }
  },
  {
   "cell_type": "code",
   "execution_count": 2,
   "outputs": [],
   "source": [
    "fr_5th_rep_csvs = glob('../parla_data_processors/data/work/france/5th_rep_processed/*.csv')"
   ],
   "metadata": {
    "collapsed": false,
    "pycharm": {
     "name": "#%%\n"
    }
   }
  },
  {
   "cell_type": "markdown",
   "source": [
    "Set a path where to write the txt files. This has to exists."
   ],
   "metadata": {
    "collapsed": false
   }
  },
  {
   "cell_type": "code",
   "execution_count": null,
   "outputs": [],
   "source": [
    "output_path = 'data/work/fr_txt/'"
   ],
   "metadata": {
    "collapsed": false,
    "pycharm": {
     "name": "#%%\n"
    }
   }
  },
  {
   "cell_type": "markdown",
   "source": [
    "Iterate over each csv file, find the relevant content and write it in txt files."
   ],
   "metadata": {
    "collapsed": false
   }
  },
  {
   "cell_type": "code",
   "execution_count": null,
   "outputs": [],
   "source": [
    "for csv_file in fr_5th_rep_csvs:\n",
    "    # set output filename, based on the csv filename\n",
    "    # and add that to the output path\n",
    "    output_txt_file = output_path + csv_file.split('/')[-1][:-4] + \".txt\"\n",
    "    # open the file\n",
    "    with open(csv_file, 'r') as f:\n",
    "        # start a list where to combine all the texts\n",
    "        texts_together = list()\n",
    "        # create a reader to read the csv file (from the csv library)\n",
    "        reader = csv.DictReader(f)\n",
    "        # the reader is an iterator, each iteration is a row in the csv\n",
    "        for row in reader:\n",
    "            # each row in the reader is a dictionary\n",
    "            # add page_text -field form each row to the list from earlier\n",
    "            texts_together.append(row['page_text'])\n",
    "        # combine the list uinto a single string\n",
    "        text_str = \" \".join(texts_together)\n",
    "    # write the output\n",
    "    with open(output_txt_file, 'w') as outfile:\n",
    "        outfile.write(text_str)"
   ],
   "metadata": {
    "collapsed": false,
    "pycharm": {
     "name": "#%%\n"
    }
   }
  }
 ],
 "metadata": {
  "kernelspec": {
   "display_name": "Python 3",
   "language": "python",
   "name": "python3"
  },
  "language_info": {
   "codemirror_mode": {
    "name": "ipython",
    "version": 2
   },
   "file_extension": ".py",
   "mimetype": "text/x-python",
   "name": "python",
   "nbconvert_exporter": "python",
   "pygments_lexer": "ipython2",
   "version": "2.7.6"
  }
 },
 "nbformat": 4,
 "nbformat_minor": 0
}